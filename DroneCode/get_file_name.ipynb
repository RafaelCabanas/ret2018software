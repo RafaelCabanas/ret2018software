{
 "cells": [
  {
   "cell_type": "markdown",
   "metadata": {},
   "source": [
    "### This is the jupyter notebook to describe how to read a file name and extract name, location, extension."
   ]
  },
  {
   "cell_type": "code",
   "execution_count": 1,
   "metadata": {},
   "outputs": [
    {
     "name": "stdout",
     "output_type": "stream",
     "text": [
      "Do you want to convert your log drone file to CSV format? (y/n)y\n",
      "full name of file is: /Users/rafael/MIT/ProjectGPSTrajectory/LogFilesProcessing/TestDroneFilesConversion/000002.BIN\n",
      "extension: BIN\n",
      "name of file is: 000002.BIN\n",
      "folder of file is: /Users/rafael/MIT/ProjectGPSTrajectory/LogFilesProcessing/TestDroneFilesConversion/\n"
     ]
    }
   ],
   "source": [
    "\"\"\"\n",
    "Created on: 06-26-2019\n",
    "Author: R.A.C. (Raf)\n",
    "\n",
    "\"\"\"\n",
    "\n",
    "# This code asks for name of file. Detects the two possible extensions we\n",
    "# know how to conver: .bin and .ulg, and returns the name file and the\n",
    "# extension.\n",
    "# tkinter must be installed.\n",
    "\n",
    "from tkinter import Tk                      # to get window and select file.\n",
    "from tkinter.filedialog import askopenfilename\n",
    "\n",
    "import sys                                  # to kill program when needed.\n",
    "\n",
    "import os                                   # to run instruction in the bash.\n",
    "\n",
    "\n",
    "####### Function that gets the file name you want to trasnform. #######\n",
    "def get_file_name(string_yN):\n",
    "\n",
    "    if string_yN=='y' or string_yN=='Y':\n",
    "        Tk().withdraw() # we don't want the full GUI, this kees the root window\n",
    "                        # from appearing.\n",
    "        full_name=askopenfilename()\n",
    "        extension=full_name[len(full_name)-3::]    # gets extension bin or ulg\n",
    "\n",
    "        startName=False             # true when you reach beginning of file name.\n",
    "        n=0                         # counter that goes backwards in file name.\n",
    "        beacon=full_name[len(full_name)-1] # stores each letter until reach /, starting with last letter of the file+extension.\n",
    "        short_name=\"\"                # stores just name of file without path\n",
    "        while (startName==False):   # chops path keeps name of file alone.\n",
    "\n",
    "            if beacon!='/':\n",
    "                n+=1\n",
    "                short_name=beacon+short_name\n",
    "            else:\n",
    "                startName=True\n",
    "\n",
    "            beacon=full_name[len(full_name)-1-n]\n",
    "\n",
    "        path=full_name[:len(full_name)-n:]\n",
    "# One can use tkinter method from tkinter.filedialog askdirectory, and returns the directory. I just didn't know when I programmed this.\n",
    "    else:\n",
    "        print(\"Bye, bye my little birdy...\")\n",
    "        sys.exit()\n",
    "\n",
    "    return[full_name, extension, short_name, path]          # Function returns full name, extension of file, just name of file and path.\n",
    "\n",
    "if __name__==\"__main__\":\n",
    "\n",
    "    yN=input(\"Do you want to convert your log drone file to CSV format? (y/n)\")\n",
    "\n",
    "    file_name=get_file_name(yN)\n",
    "    print('full name of file is: ' + file_name[0])\n",
    "    print('extension: ' + file_name[1])\n",
    "    print('name of file is: ' + file_name[2])\n",
    "    print('folder of file is: ' + file_name[3])"
   ]
  },
  {
   "cell_type": "code",
   "execution_count": null,
   "metadata": {},
   "outputs": [],
   "source": []
  }
 ],
 "metadata": {
  "kernelspec": {
   "display_name": "Python 3",
   "language": "python",
   "name": "python3"
  },
  "language_info": {
   "codemirror_mode": {
    "name": "ipython",
    "version": 3
   },
   "file_extension": ".py",
   "mimetype": "text/x-python",
   "name": "python",
   "nbconvert_exporter": "python",
   "pygments_lexer": "ipython3",
   "version": "3.6.8"
  }
 },
 "nbformat": 4,
 "nbformat_minor": 2
}
